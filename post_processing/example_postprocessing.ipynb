{
 "cells": [
  {
   "cell_type": "code",
   "execution_count": null,
   "metadata": {},
   "outputs": [],
   "source": [
    "string = '''\n",
    "The official symbol CYCSP32 and the official full name cytochrome c, small pseudogene 32 are provided by HGNC. The primary source for this information is HGNC:HGNC:43177. This gene is classified as a pseudo gene and its RefSeq status is INFERRED. The organism for this gene is Homo sapiens and its lineage is Eukaryota; Metazoa; Chordata; Craniata; Vertebrata; Euteleostomi; Mammalia; Eutheria; Euarchontoglires; Primates; Haplorrhini; Catarrhini; Hominidae; Homo.\n",
    "'''"
   ]
  },
  {
   "cell_type": "code",
   "execution_count": null,
   "metadata": {},
   "outputs": [],
   "source": [
    "import pickle\n",
    "with open('genemore_allianceGenome.pickle', 'rb') as f:\n",
    "    file_gene_allianceGenome = pickle.load(f)\n",
    "\n",
    "with open('genemore_ensemble.pickle', 'rb') as f:\n",
    "    file_gene_ensemble = pickle.load(f)\n",
    "\n",
    "with open('genemore_hgnc.pickle', 'rb') as f:\n",
    "    file_gene_hgnc = pickle.load(f)"
   ]
  },
  {
   "cell_type": "code",
   "execution_count": null,
   "metadata": {},
   "outputs": [],
   "source": [
    "gene = \"CYCSP32\""
   ]
  },
  {
   "cell_type": "code",
   "execution_count": null,
   "metadata": {},
   "outputs": [],
   "source": [
    "import re\n",
    "def post_processing(gene, string):\n",
    "    if (gene not in file_gene_allianceGenome.keys()) or (gene not in file_gene_ensemble.keys()) or (gene not in file_gene_hgnc.keys()):\n",
    "        print(\"The gene is not included in the NCBI dataset, thus the id information is not reliable.\")\n",
    "        \n",
    "        # Pattern to match \"It is also known as\" followed by any characters until the next period \".\"\n",
    "        pattern = \" It is also known as.*?\\.\"\n",
    "\n",
    "        # Replacement text (empty string to remove the matched pattern)\n",
    "        replacement_text = \"\"\n",
    "\n",
    "        # Replace the matched pattern in the text\n",
    "        modified_text = re.sub(pattern, replacement_text, string)\n",
    "\n",
    "        return modified_text\n",
    "    \n",
    "    pattern = \" It is also known as.*?\\.\"\n",
    "\n",
    "    # Replacement text (empty string to remove the matched pattern)\n",
    "    replacement_text = \"\"\n",
    "\n",
    "    # Replace the matched pattern in the text\n",
    "    string = re.sub(pattern, replacement_text, string)\n",
    "        \n",
    "    alligenome = file_gene_allianceGenome[gene]\n",
    "    ensemb = file_gene_ensemble[gene]\n",
    "    hgnc = file_gene_hgnc[gene]\n",
    "    substr = string\n",
    "    new_text = re.sub(r'(HGNC:HGNC:)([A-Z0-9]+)(?=[,.\\s])', f\"\\g<1>{alligenome}\",substr)\n",
    "    new_text = re.sub(r'(Ensembl:)([A-Z0-9]+)(?=[,.\\s])', f\"\\g<1>{ensemb}\",new_text)\n",
    "    new_text = re.sub(r'(AllianceGenome:HGNC:)([A-Z0-9]+)(?=[,.\\s])', f\"\\g<1>{hgnc}\",new_text)\n",
    "    return new_text"
   ]
  },
  {
   "cell_type": "code",
   "execution_count": null,
   "metadata": {},
   "outputs": [],
   "source": [
    "out = post_processing(gene, string)"
   ]
  },
  {
   "cell_type": "code",
   "execution_count": null,
   "metadata": {},
   "outputs": [],
   "source": [
    "out"
   ]
  }
 ],
 "metadata": {
  "language_info": {
   "name": "python"
  }
 },
 "nbformat": 4,
 "nbformat_minor": 2
}
