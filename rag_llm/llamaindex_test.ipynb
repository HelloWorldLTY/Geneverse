{
 "cells": [
  {
   "cell_type": "code",
   "execution_count": null,
   "id": "60a2ba1a-d33c-4aea-8ebd-20e9bbc71f5c",
   "metadata": {},
   "outputs": [],
   "source": [
    "# pip install llama-index\n",
    "# !pip install llama-index-embeddings-huggingface\n",
    "# !pip install llama-index-llms-huggingface\n",
    "# !pip install llama-index-postprocessor-cohere-rerank"
   ]
  },
  {
   "cell_type": "code",
   "execution_count": null,
   "id": "445fdbbe-44c1-4734-a059-d778105c1da1",
   "metadata": {},
   "outputs": [],
   "source": [
    "import os\n",
    "os.environ['HF_HOME'] = '' # please specify your path."
   ]
  },
  {
   "cell_type": "code",
   "execution_count": null,
   "id": "c04be29f-63fe-467d-b980-8c225ff76860",
   "metadata": {},
   "outputs": [],
   "source": [
    "import os\n",
    "from llama_index.postprocessor.cohere_rerank import CohereRerank"
   ]
  },
  {
   "cell_type": "code",
   "execution_count": null,
   "id": "11a20e59-8797-4e46-ba23-482087f76459",
   "metadata": {},
   "outputs": [],
   "source": [
    "from llama_index.embeddings.huggingface import HuggingFaceEmbedding\n",
    "from llama_index.core import Settings\n",
    "\n",
    "Settings.embed_model = HuggingFaceEmbedding(\n",
    "    model_name=\"BAAI/bge-small-en-v1.5\"\n",
    ")"
   ]
  },
  {
   "cell_type": "code",
   "execution_count": null,
   "id": "bc119397-03b1-4526-8427-1156e15b5eee",
   "metadata": {},
   "outputs": [],
   "source": [
    "from llama_index.core import VectorStoreIndex, SimpleDirectoryReader\n",
    "\n",
    "# documents = SimpleDirectoryReader(\"data\").load_data()\n",
    "# index = VectorStoreIndex.from_documents(documents)\n",
    "documents = SimpleDirectoryReader(\n",
    "    \"./dictionary_genemore/\" # please specific your pathway\n",
    ").load_data()\n",
    "index = VectorStoreIndex.from_documents(documents)"
   ]
  },
  {
   "cell_type": "code",
   "execution_count": null,
   "id": "ef4611a9-210b-476d-90cc-e1431bba1777",
   "metadata": {},
   "outputs": [],
   "source": [
    "from huggingface_hub import login\n",
    "\n",
    "login(\"\") # please use your own code"
   ]
  },
  {
   "cell_type": "code",
   "execution_count": null,
   "id": "c0c3d884-0c43-4227-8933-e379cf77969a",
   "metadata": {},
   "outputs": [],
   "source": [
    "from llama_index.core import ServiceContext\n",
    "import transformers\n",
    "\n",
    "from llama_index.core.llms import LLM\n",
    "import logging\n",
    "import sys\n",
    "\n",
    "logging.basicConfig(stream=sys.stdout, level=logging.INFO)\n",
    "logging.getLogger().addHandler(logging.StreamHandler(stream=sys.stdout))\n",
    "\n",
    "from llama_index.core import VectorStoreIndex, SimpleDirectoryReader\n",
    "from llama_index.llms.huggingface import HuggingFaceLLM\n",
    "from llama_index.core import Settings"
   ]
  },
  {
   "cell_type": "code",
   "execution_count": null,
   "id": "bd0c354c-6bf6-4a1a-be60-ce0cca348301",
   "metadata": {},
   "outputs": [],
   "source": [
    "# setup prompts - specific to StableLM\n",
    "from llama_index.core import PromptTemplate\n",
    "\n",
    "# This will wrap the default prompts that are internal to llama-index\n",
    "# taken from https://huggingface.co/Writer/camel-5b-hf\n",
    "query_wrapper_prompt = PromptTemplate(\n",
    "    \"Below is an instruction that describes a task. \"\n",
    "    \"Write a response that appropriately completes the request. Please do not share information if you do not know the answer.\\n\\n\"\n",
    "    \"### Instruction:\\n{query_str}\\n\\n### Response:\"\n",
    ")"
   ]
  },
  {
   "cell_type": "code",
   "execution_count": null,
   "id": "c0f85f65-72e3-4237-9992-415d3c9c66a8",
   "metadata": {},
   "outputs": [],
   "source": [
    "# !pip install transformers --upgrade"
   ]
  },
  {
   "cell_type": "code",
   "execution_count": null,
   "id": "45d887e2-ec20-4f9c-81c0-2e15f1d46cb2",
   "metadata": {},
   "outputs": [],
   "source": [
    "llm = HuggingFaceLLM(\n",
    "    context_window=2048,\n",
    "    max_new_tokens=1024,\n",
    "    generate_kwargs={\"temperature\": 0.25, \"do_sample\": False},\n",
    "    query_wrapper_prompt=query_wrapper_prompt,\n",
    "    tokenizer_name=\"google/gemma-7b-it\",\n",
    "    model_name=\"google/gemma-7b-it\",\n",
    "    device_map=\"auto\",\n",
    "    tokenizer_kwargs={\"max_length\": 2048},\n",
    "    \n",
    "    # uncomment this if using CUDA to reduce memory usage\n",
    "    # model_kwargs={\"torch_dtype\": torch.float16}\n",
    ")\n",
    "\n",
    "Settings.chunk_size = 512\n",
    "Settings.llm = llm"
   ]
  },
  {
   "cell_type": "code",
   "execution_count": null,
   "id": "a52e3490-8287-4144-ab3d-8a2724e04860",
   "metadata": {},
   "outputs": [],
   "source": [
    "index = VectorStoreIndex.from_documents(documents)"
   ]
  },
  {
   "cell_type": "code",
   "execution_count": null,
   "id": "b77110ef-6645-40ec-a6cd-f119dda009c0",
   "metadata": {},
   "outputs": [],
   "source": [
    "# # set Logging to DEBUG for more detailed outputs\n",
    "# query_engine = index.as_query_engine()\n",
    "# response = query_engine.query(f\"Please summarize the major function of gene: ZNF385A. Use academic language in one paragraph and include pathway information.\")\n",
    "# print(response)"
   ]
  },
  {
   "cell_type": "code",
   "execution_count": null,
   "id": "770a0b8b-2142-48b7-b481-f286e94f5489",
   "metadata": {},
   "outputs": [],
   "source": [
    "# # set Logging to DEBUG for more detailed outputs\n",
    "# query_engine = index.as_query_engine()\n",
    "# response = query_engine.query(f\"Please summarize the major function of gene: ZNF385A. Use academic language in one paragraph and include pathway information.\")\n",
    "# print(response)"
   ]
  },
  {
   "cell_type": "code",
   "execution_count": null,
   "id": "7a5b379c-027b-4a39-a120-30cd77799f0e",
   "metadata": {},
   "outputs": [],
   "source": [
    "gene_list = [\n",
    "    \"HEATR5B\",\n",
    "\"ZNF385A\",\n",
    "\"ZNF226\",\n",
    "\"IGKV2D-36\",\n",
    "\"RPL37P24\",\n",
    "\"FGF7\",\n",
    "\"LRRC7\",\n",
    "\"MIR6721\",\n",
    "\"SRD5A3\",\n",
    "\"MIR608\",\n",
    "\"EOGT\",\n",
    "\"CASP10\",\n",
    "\"CYCSP32\",\n",
    "\"HSPA1L\",\n",
    "\"SLC30A10\",\n",
    "\"GLI1\",\n",
    "\"RPS4XP1\",\n",
    "\"RPS27AP8\",\n",
    "\"CCL23\",\n",
    "\"ACSS3\"\n",
    "]\n",
    "top_k = 1\n",
    "query_engine = index.as_query_engine(similarity_top_k=top_k)"
   ]
  },
  {
   "cell_type": "code",
   "execution_count": null,
   "id": "bfb9f534-32fe-45df-b2af-4b70224f26c3",
   "metadata": {},
   "outputs": [],
   "source": [
    "for item in gene_list:\n",
    "    # Test out a query in natural\n",
    "    print(item)\n",
    "    response = query_engine.query(f\"Please summarize the major function of gene: {item}. Use academic language in one paragraph and include gene name and pathway information.\")\n",
    "    print(response.response)"
   ]
  },
  {
   "cell_type": "code",
   "execution_count": null,
   "id": "ace5462e-d5c4-4a06-993c-122b63e1a8c2",
   "metadata": {},
   "outputs": [],
   "source": []
  },
  {
   "cell_type": "code",
   "execution_count": null,
   "id": "f66003c1-ded2-4f56-8582-08a6c917b0d5",
   "metadata": {},
   "outputs": [],
   "source": []
  }
 ],
 "metadata": {
  "kernelspec": {
   "display_name": "Python 3 (ipykernel)",
   "language": "python",
   "name": "python3"
  },
  "language_info": {
   "codemirror_mode": {
    "name": "ipython",
    "version": 3
   },
   "file_extension": ".py",
   "mimetype": "text/x-python",
   "name": "python",
   "nbconvert_exporter": "python",
   "pygments_lexer": "ipython3",
   "version": "3.8.18"
  },
  "widgets": {
   "application/vnd.jupyter.widget-state+json": {
    "state": {
     "016346c3049540bda03ca500d803479e": {
      "model_module": "@jupyter-widgets/controls",
      "model_module_version": "2.0.0",
      "model_name": "HTMLStyleModel",
      "state": {
       "description_width": "",
       "font_size": null,
       "text_color": null
      }
     },
     "01da174229e046d6866674cc8b1a05e8": {
      "model_module": "@jupyter-widgets/controls",
      "model_module_version": "2.0.0",
      "model_name": "HBoxModel",
      "state": {
       "children": [
        "IPY_MODEL_e6a4c63f4c3543158ef0ac5f25898a9a",
        "IPY_MODEL_cfade8392a9c414f914beafc0532cb11",
        "IPY_MODEL_11e9255695b848bc9d6eeab41b45a786"
       ],
       "layout": "IPY_MODEL_cb3769cf861d46aaa7cd2a768ebd0716"
      }
     },
     "0904b51d5a7443d2988347c64e2787b9": {
      "model_module": "@jupyter-widgets/controls",
      "model_module_version": "2.0.0",
      "model_name": "HTMLStyleModel",
      "state": {
       "description_width": "",
       "font_size": null,
       "text_color": null
      }
     },
     "090a7d37445b40dfb26e2b1920a13f95": {
      "model_module": "@jupyter-widgets/base",
      "model_module_version": "2.0.0",
      "model_name": "LayoutModel",
      "state": {}
     },
     "0e5b5a6208ee4765916623b1265bfed3": {
      "model_module": "@jupyter-widgets/base",
      "model_module_version": "2.0.0",
      "model_name": "LayoutModel",
      "state": {}
     },
     "109e33255b514c43bb41e47a61ce4309": {
      "model_module": "@jupyter-widgets/base",
      "model_module_version": "2.0.0",
      "model_name": "LayoutModel",
      "state": {}
     },
     "11e9255695b848bc9d6eeab41b45a786": {
      "model_module": "@jupyter-widgets/controls",
      "model_module_version": "2.0.0",
      "model_name": "HTMLModel",
      "state": {
       "layout": "IPY_MODEL_9f0d7d8485624835bf687d90a92a4de8",
       "style": "IPY_MODEL_2acacb250d584e7eb41b029ebb26646f",
       "value": " 4/4 [00:32&lt;00:00,  7.42s/it]"
      }
     },
     "160830045b544a6ca30c0b88827f6c5f": {
      "model_module": "@jupyter-widgets/base",
      "model_module_version": "2.0.0",
      "model_name": "LayoutModel",
      "state": {}
     },
     "170d49549ac14016bb1fe2fda75cd063": {
      "model_module": "@jupyter-widgets/controls",
      "model_module_version": "2.0.0",
      "model_name": "FloatProgressModel",
      "state": {
       "bar_style": "success",
       "layout": "IPY_MODEL_43e673eff6d84fd0810c9541134c2274",
       "max": 4,
       "style": "IPY_MODEL_3554adecb8d04f8e8802dd84b174744c",
       "value": 4
      }
     },
     "17b06c3f17d44e5791c6f60f45389f60": {
      "model_module": "@jupyter-widgets/controls",
      "model_module_version": "2.0.0",
      "model_name": "ProgressStyleModel",
      "state": {
       "description_width": ""
      }
     },
     "19918fe2dc124c6ea0bbdabe1a6c3d0c": {
      "model_module": "@jupyter-widgets/base",
      "model_module_version": "2.0.0",
      "model_name": "LayoutModel",
      "state": {}
     },
     "1b6537cac89b4d51884a69f8fe254856": {
      "model_module": "@jupyter-widgets/base",
      "model_module_version": "2.0.0",
      "model_name": "LayoutModel",
      "state": {}
     },
     "1c0d04b52db7400285c9230a69481c88": {
      "model_module": "@jupyter-widgets/controls",
      "model_module_version": "2.0.0",
      "model_name": "HTMLStyleModel",
      "state": {
       "description_width": "",
       "font_size": null,
       "text_color": null
      }
     },
     "1c95a07047434dff8a853cb464b2951f": {
      "model_module": "@jupyter-widgets/controls",
      "model_module_version": "2.0.0",
      "model_name": "HTMLModel",
      "state": {
       "layout": "IPY_MODEL_d3515b200601486695396685b653e883",
       "style": "IPY_MODEL_fda5d033bf1741168611962f746cf918",
       "value": " 4.98G/4.98G [00:24&lt;00:00, 277MB/s]"
      }
     },
     "1d050db2963e44749eb7c740678741b3": {
      "model_module": "@jupyter-widgets/controls",
      "model_module_version": "2.0.0",
      "model_name": "HTMLStyleModel",
      "state": {
       "description_width": "",
       "font_size": null,
       "text_color": null
      }
     },
     "1f22a99e060143278d61889f488daa25": {
      "model_module": "@jupyter-widgets/controls",
      "model_module_version": "2.0.0",
      "model_name": "HTMLStyleModel",
      "state": {
       "description_width": "",
       "font_size": null,
       "text_color": null
      }
     },
     "229839c868c24491974225369bd5b8fa": {
      "model_module": "@jupyter-widgets/controls",
      "model_module_version": "2.0.0",
      "model_name": "HTMLModel",
      "state": {
       "layout": "IPY_MODEL_2e25d036089d41e4942ab113ccfb7d12",
       "style": "IPY_MODEL_0904b51d5a7443d2988347c64e2787b9",
       "value": " 4.98G/4.98G [00:25&lt;00:00, 222MB/s]"
      }
     },
     "22cf6a06f65f40ebaad509b5275137c0": {
      "model_module": "@jupyter-widgets/controls",
      "model_module_version": "2.0.0",
      "model_name": "HBoxModel",
      "state": {
       "children": [
        "IPY_MODEL_a806e386569044b7a7e35f737d2094aa",
        "IPY_MODEL_170d49549ac14016bb1fe2fda75cd063",
        "IPY_MODEL_3fa3dc965b2744ee8d8797cb965385f9"
       ],
       "layout": "IPY_MODEL_19918fe2dc124c6ea0bbdabe1a6c3d0c"
      }
     },
     "24bdc76b063147c58d63dc893f278cb2": {
      "model_module": "@jupyter-widgets/base",
      "model_module_version": "2.0.0",
      "model_name": "LayoutModel",
      "state": {}
     },
     "27fa3f66238448d3bf3c67de7d267adf": {
      "model_module": "@jupyter-widgets/controls",
      "model_module_version": "2.0.0",
      "model_name": "FloatProgressModel",
      "state": {
       "bar_style": "success",
       "layout": "IPY_MODEL_90a1960d04484d6186c920e9f488843c",
       "max": 17477929,
       "style": "IPY_MODEL_5527921315b54f6ba645d331174aa0fe",
       "value": 17477929
      }
     },
     "2a91e441db524e0c807bf4e0837c121e": {
      "model_module": "@jupyter-widgets/base",
      "model_module_version": "2.0.0",
      "model_name": "LayoutModel",
      "state": {}
     },
     "2acacb250d584e7eb41b029ebb26646f": {
      "model_module": "@jupyter-widgets/controls",
      "model_module_version": "2.0.0",
      "model_name": "HTMLStyleModel",
      "state": {
       "description_width": "",
       "font_size": null,
       "text_color": null
      }
     },
     "2b3a5a63dbac468fb51d878dd800d05d": {
      "model_module": "@jupyter-widgets/controls",
      "model_module_version": "2.0.0",
      "model_name": "ProgressStyleModel",
      "state": {
       "description_width": ""
      }
     },
     "2e25d036089d41e4942ab113ccfb7d12": {
      "model_module": "@jupyter-widgets/base",
      "model_module_version": "2.0.0",
      "model_name": "LayoutModel",
      "state": {}
     },
     "2f1612073c37432b9c764d825d7cd866": {
      "model_module": "@jupyter-widgets/controls",
      "model_module_version": "2.0.0",
      "model_name": "HBoxModel",
      "state": {
       "children": [
        "IPY_MODEL_30d4ce30fb8c410882ddf6c771efd89d",
        "IPY_MODEL_8911c4920d924832b47c70aefe2d59c6",
        "IPY_MODEL_1c95a07047434dff8a853cb464b2951f"
       ],
       "layout": "IPY_MODEL_2a91e441db524e0c807bf4e0837c121e"
      }
     },
     "2f1fdc3546a84c09aa35e9cdf62f093b": {
      "model_module": "@jupyter-widgets/controls",
      "model_module_version": "2.0.0",
      "model_name": "FloatProgressModel",
      "state": {
       "bar_style": "success",
       "layout": "IPY_MODEL_3c6d899ebb524dd39e9c6a5f1e108d29",
       "max": 888,
       "style": "IPY_MODEL_52782e91931f41ec81c39d7845d9392a",
       "value": 888
      }
     },
     "30060ff6eedd4224810e5ff46cf9cc38": {
      "model_module": "@jupyter-widgets/controls",
      "model_module_version": "2.0.0",
      "model_name": "HBoxModel",
      "state": {
       "children": [
        "IPY_MODEL_702e5dc9ff4f4e778d9ce6de7e282502",
        "IPY_MODEL_bc3cf5b74d4247dcb9d6ffeb3470ab0b",
        "IPY_MODEL_66373821532144b7bc1163249eec9818"
       ],
       "layout": "IPY_MODEL_9205d6b488df4523a2141c2361e1657d"
      }
     },
     "301b3f41ce56408d842d3c3e722a9127": {
      "model_module": "@jupyter-widgets/controls",
      "model_module_version": "2.0.0",
      "model_name": "HTMLModel",
      "state": {
       "layout": "IPY_MODEL_47da437e55d5406c8a4ca43fb3d3f552",
       "style": "IPY_MODEL_b43d7d585e1448b1ae0ac0ebe23c3af7",
       "value": " 137/137 [00:00&lt;00:00, 11.0kB/s]"
      }
     },
     "30d4ce30fb8c410882ddf6c771efd89d": {
      "model_module": "@jupyter-widgets/controls",
      "model_module_version": "2.0.0",
      "model_name": "HTMLModel",
      "state": {
       "layout": "IPY_MODEL_9145315b34034ab992409815db6af6ef",
       "style": "IPY_MODEL_348febd991844d6c9b49f12a7fe10a5e",
       "value": "model-00003-of-00004.safetensors: 100%"
      }
     },
     "33a268dbc9d5433aa040938750517e84": {
      "model_module": "@jupyter-widgets/base",
      "model_module_version": "2.0.0",
      "model_name": "LayoutModel",
      "state": {}
     },
     "3463ff78c4f64185812d296977ea26a7": {
      "model_module": "@jupyter-widgets/controls",
      "model_module_version": "2.0.0",
      "model_name": "HTMLModel",
      "state": {
       "layout": "IPY_MODEL_5047328d293949029ac9afd5f1b65763",
       "style": "IPY_MODEL_94d62aa6b5434c8a87a7376ad41c420d",
       "value": " 888/888 [00:00&lt;00:00, 71.0kB/s]"
      }
     },
     "348febd991844d6c9b49f12a7fe10a5e": {
      "model_module": "@jupyter-widgets/controls",
      "model_module_version": "2.0.0",
      "model_name": "HTMLStyleModel",
      "state": {
       "description_width": "",
       "font_size": null,
       "text_color": null
      }
     },
     "3554adecb8d04f8e8802dd84b174744c": {
      "model_module": "@jupyter-widgets/controls",
      "model_module_version": "2.0.0",
      "model_name": "ProgressStyleModel",
      "state": {
       "description_width": ""
      }
     },
     "3568c3042fe640d586d898ce373c2769": {
      "model_module": "@jupyter-widgets/controls",
      "model_module_version": "2.0.0",
      "model_name": "HTMLStyleModel",
      "state": {
       "description_width": "",
       "font_size": null,
       "text_color": null
      }
     },
     "372906961d1343f2a2bdc39e677a7439": {
      "model_module": "@jupyter-widgets/base",
      "model_module_version": "2.0.0",
      "model_name": "LayoutModel",
      "state": {}
     },
     "39679ffbd1d743b595733c4448632672": {
      "model_module": "@jupyter-widgets/controls",
      "model_module_version": "2.0.0",
      "model_name": "FloatProgressModel",
      "state": {
       "bar_style": "success",
       "layout": "IPY_MODEL_0e5b5a6208ee4765916623b1265bfed3",
       "max": 137,
       "style": "IPY_MODEL_2b3a5a63dbac468fb51d878dd800d05d",
       "value": 137
      }
     },
     "3c6d899ebb524dd39e9c6a5f1e108d29": {
      "model_module": "@jupyter-widgets/base",
      "model_module_version": "2.0.0",
      "model_name": "LayoutModel",
      "state": {}
     },
     "3ccda54686fe4cdd84126be73726f163": {
      "model_module": "@jupyter-widgets/controls",
      "model_module_version": "2.0.0",
      "model_name": "FloatProgressModel",
      "state": {
       "bar_style": "success",
       "layout": "IPY_MODEL_109e33255b514c43bb41e47a61ce4309",
       "max": 20920,
       "style": "IPY_MODEL_ae1890a5cab947aab0a5eaf15f072d22",
       "value": 20920
      }
     },
     "3db41cc6454b4553aa3d970b467a98d8": {
      "model_module": "@jupyter-widgets/controls",
      "model_module_version": "2.0.0",
      "model_name": "FloatProgressModel",
      "state": {
       "bar_style": "success",
       "layout": "IPY_MODEL_55562c4702d44fbab3f623271b6a1bb6",
       "max": 2162,
       "style": "IPY_MODEL_ecdfd817c99440269a539343b0b8185e",
       "value": 2162
      }
     },
     "3e42b8c81c794009ab9f447b1c07bcee": {
      "model_module": "@jupyter-widgets/controls",
      "model_module_version": "2.0.0",
      "model_name": "HTMLStyleModel",
      "state": {
       "description_width": "",
       "font_size": null,
       "text_color": null
      }
     },
     "3fa3dc965b2744ee8d8797cb965385f9": {
      "model_module": "@jupyter-widgets/controls",
      "model_module_version": "2.0.0",
      "model_name": "HTMLModel",
      "state": {
       "layout": "IPY_MODEL_090a7d37445b40dfb26e2b1920a13f95",
       "style": "IPY_MODEL_920c7fb9181744d2bb11bc33358df05f",
       "value": " 4/4 [01:21&lt;00:00, 18.07s/it]"
      }
     },
     "40f1d9a47a5f476d8aba0999c417e954": {
      "model_module": "@jupyter-widgets/controls",
      "model_module_version": "2.0.0",
      "model_name": "HTMLStyleModel",
      "state": {
       "description_width": "",
       "font_size": null,
       "text_color": null
      }
     },
     "411c4c6335924e4fa7342a5b0d2daeee": {
      "model_module": "@jupyter-widgets/base",
      "model_module_version": "2.0.0",
      "model_name": "LayoutModel",
      "state": {}
     },
     "433cf78af4cb4315bfefc09429a10523": {
      "model_module": "@jupyter-widgets/base",
      "model_module_version": "2.0.0",
      "model_name": "LayoutModel",
      "state": {}
     },
     "43bd9f278b1c4fffb2bc2a22db18b39d": {
      "model_module": "@jupyter-widgets/controls",
      "model_module_version": "2.0.0",
      "model_name": "FloatProgressModel",
      "state": {
       "bar_style": "success",
       "layout": "IPY_MODEL_6aa4c04bd47d4c8da6d70bee80fffb86",
       "max": 4241003,
       "style": "IPY_MODEL_d30ef46ebdf845a9ab731af99e1d3362",
       "value": 4241003
      }
     },
     "43e673eff6d84fd0810c9541134c2274": {
      "model_module": "@jupyter-widgets/base",
      "model_module_version": "2.0.0",
      "model_name": "LayoutModel",
      "state": {}
     },
     "445f644444be49e2807286fd98692b5c": {
      "model_module": "@jupyter-widgets/base",
      "model_module_version": "2.0.0",
      "model_name": "LayoutModel",
      "state": {}
     },
     "4699f4d86bb34d2e99aa2abbf9f55a2e": {
      "model_module": "@jupyter-widgets/base",
      "model_module_version": "2.0.0",
      "model_name": "LayoutModel",
      "state": {}
     },
     "47da437e55d5406c8a4ca43fb3d3f552": {
      "model_module": "@jupyter-widgets/base",
      "model_module_version": "2.0.0",
      "model_name": "LayoutModel",
      "state": {}
     },
     "488a08c8cbbd4905b1c2ca29491cb435": {
      "model_module": "@jupyter-widgets/controls",
      "model_module_version": "2.0.0",
      "model_name": "HBoxModel",
      "state": {
       "children": [
        "IPY_MODEL_ed778a45c9de49978764c67c8a2da8d4",
        "IPY_MODEL_27fa3f66238448d3bf3c67de7d267adf",
        "IPY_MODEL_65052fa55b424bf48ddc6c0d0c168a17"
       ],
       "layout": "IPY_MODEL_7cf5a30747bb44038237a88b6006a28b"
      }
     },
     "4e7fadec03124fa6b69214defe8d01f0": {
      "model_module": "@jupyter-widgets/base",
      "model_module_version": "2.0.0",
      "model_name": "LayoutModel",
      "state": {}
     },
     "4eaa50a1bf7c422898e6fc0995e9b703": {
      "model_module": "@jupyter-widgets/controls",
      "model_module_version": "2.0.0",
      "model_name": "HTMLStyleModel",
      "state": {
       "description_width": "",
       "font_size": null,
       "text_color": null
      }
     },
     "4f2cba6c7af44aaebca53b4d8f78d534": {
      "model_module": "@jupyter-widgets/base",
      "model_module_version": "2.0.0",
      "model_name": "LayoutModel",
      "state": {}
     },
     "4f7027cd1e774d73bf30f435e61760f9": {
      "model_module": "@jupyter-widgets/base",
      "model_module_version": "2.0.0",
      "model_name": "LayoutModel",
      "state": {}
     },
     "5047328d293949029ac9afd5f1b65763": {
      "model_module": "@jupyter-widgets/base",
      "model_module_version": "2.0.0",
      "model_name": "LayoutModel",
      "state": {}
     },
     "52782e91931f41ec81c39d7845d9392a": {
      "model_module": "@jupyter-widgets/controls",
      "model_module_version": "2.0.0",
      "model_name": "ProgressStyleModel",
      "state": {
       "description_width": ""
      }
     },
     "5527921315b54f6ba645d331174aa0fe": {
      "model_module": "@jupyter-widgets/controls",
      "model_module_version": "2.0.0",
      "model_name": "ProgressStyleModel",
      "state": {
       "description_width": ""
      }
     },
     "55562c4702d44fbab3f623271b6a1bb6": {
      "model_module": "@jupyter-widgets/base",
      "model_module_version": "2.0.0",
      "model_name": "LayoutModel",
      "state": {}
     },
     "597899eae66941d582061dd37865a3b3": {
      "model_module": "@jupyter-widgets/base",
      "model_module_version": "2.0.0",
      "model_name": "LayoutModel",
      "state": {}
     },
     "62b14f6dbc1a47d19b493fee96d3de2f": {
      "model_module": "@jupyter-widgets/controls",
      "model_module_version": "2.0.0",
      "model_name": "ProgressStyleModel",
      "state": {
       "description_width": ""
      }
     },
     "62e3d943641c4e2d81805ebb9a6576a5": {
      "model_module": "@jupyter-widgets/controls",
      "model_module_version": "2.0.0",
      "model_name": "HTMLStyleModel",
      "state": {
       "description_width": "",
       "font_size": null,
       "text_color": null
      }
     },
     "632405d9d70b494da5f53b742047151a": {
      "model_module": "@jupyter-widgets/controls",
      "model_module_version": "2.0.0",
      "model_name": "HTMLModel",
      "state": {
       "layout": "IPY_MODEL_160830045b544a6ca30c0b88827f6c5f",
       "style": "IPY_MODEL_da8e2f92bbb746f48b7d9a0d3d0fd0d4",
       "value": " 20.9k/20.9k [00:00&lt;00:00, 1.28MB/s]"
      }
     },
     "65052fa55b424bf48ddc6c0d0c168a17": {
      "model_module": "@jupyter-widgets/controls",
      "model_module_version": "2.0.0",
      "model_name": "HTMLModel",
      "state": {
       "layout": "IPY_MODEL_f2aad588df5d43ce957f9832b0f0fbee",
       "style": "IPY_MODEL_ca2c30f96bce4b4aa45a776ba27ddc10",
       "value": " 17.5M/17.5M [00:00&lt;00:00, 16.7MB/s]"
      }
     },
     "66373821532144b7bc1163249eec9818": {
      "model_module": "@jupyter-widgets/controls",
      "model_module_version": "2.0.0",
      "model_name": "HTMLModel",
      "state": {
       "layout": "IPY_MODEL_bfb07552464c490f8a29d6a87a5e4fcf",
       "style": "IPY_MODEL_3e42b8c81c794009ab9f447b1c07bcee",
       "value": " 5.00G/5.00G [00:22&lt;00:00, 153MB/s]"
      }
     },
     "6764de806973480cbe609a032c6fee79": {
      "model_module": "@jupyter-widgets/controls",
      "model_module_version": "2.0.0",
      "model_name": "HTMLModel",
      "state": {
       "layout": "IPY_MODEL_597899eae66941d582061dd37865a3b3",
       "style": "IPY_MODEL_62e3d943641c4e2d81805ebb9a6576a5",
       "value": "special_tokens_map.json: 100%"
      }
     },
     "6aa4c04bd47d4c8da6d70bee80fffb86": {
      "model_module": "@jupyter-widgets/base",
      "model_module_version": "2.0.0",
      "model_name": "LayoutModel",
      "state": {}
     },
     "6d1aad89842c47388510b8d2df7a13b7": {
      "model_module": "@jupyter-widgets/controls",
      "model_module_version": "2.0.0",
      "model_name": "HTMLStyleModel",
      "state": {
       "description_width": "",
       "font_size": null,
       "text_color": null
      }
     },
     "6ec8998be4914ac8af7ebdb4f3dc70c5": {
      "model_module": "@jupyter-widgets/base",
      "model_module_version": "2.0.0",
      "model_name": "LayoutModel",
      "state": {}
     },
     "702e5dc9ff4f4e778d9ce6de7e282502": {
      "model_module": "@jupyter-widgets/controls",
      "model_module_version": "2.0.0",
      "model_name": "HTMLModel",
      "state": {
       "layout": "IPY_MODEL_a416ec34cc76495aa5c566a178505142",
       "style": "IPY_MODEL_40f1d9a47a5f476d8aba0999c417e954",
       "value": "model-00001-of-00004.safetensors: 100%"
      }
     },
     "71592be166bb4dc4ae7e2a14ef9838f0": {
      "model_module": "@jupyter-widgets/controls",
      "model_module_version": "2.0.0",
      "model_name": "HTMLModel",
      "state": {
       "layout": "IPY_MODEL_ff095266d9e544b0af9dd14babe6218e",
       "style": "IPY_MODEL_3568c3042fe640d586d898ce373c2769",
       "value": "model-00004-of-00004.safetensors: 100%"
      }
     },
     "746dd4ef051949e394406d6187dcb80f": {
      "model_module": "@jupyter-widgets/controls",
      "model_module_version": "2.0.0",
      "model_name": "ProgressStyleModel",
      "state": {
       "description_width": ""
      }
     },
     "76996e2b5c624ec183087012f2073ca0": {
      "model_module": "@jupyter-widgets/controls",
      "model_module_version": "2.0.0",
      "model_name": "HTMLModel",
      "state": {
       "layout": "IPY_MODEL_372906961d1343f2a2bdc39e677a7439",
       "style": "IPY_MODEL_1f22a99e060143278d61889f488daa25",
       "value": "model.safetensors.index.json: 100%"
      }
     },
     "78fc05516a1b434d9a42648493a00f00": {
      "model_module": "@jupyter-widgets/controls",
      "model_module_version": "2.0.0",
      "model_name": "ProgressStyleModel",
      "state": {
       "description_width": ""
      }
     },
     "79d1e5c4a3c043c1b438ffd098cb34b1": {
      "model_module": "@jupyter-widgets/controls",
      "model_module_version": "2.0.0",
      "model_name": "HTMLModel",
      "state": {
       "layout": "IPY_MODEL_d0c1549be354419abaf68cb52e741667",
       "style": "IPY_MODEL_a13378ed60204c6492edf771c0916545",
       "value": "tokenizer_config.json: 100%"
      }
     },
     "7cf5a30747bb44038237a88b6006a28b": {
      "model_module": "@jupyter-widgets/base",
      "model_module_version": "2.0.0",
      "model_name": "LayoutModel",
      "state": {}
     },
     "7d37257f3a98453a9ac0aa105e713b45": {
      "model_module": "@jupyter-widgets/controls",
      "model_module_version": "2.0.0",
      "model_name": "HTMLStyleModel",
      "state": {
       "description_width": "",
       "font_size": null,
       "text_color": null
      }
     },
     "7e13db77b94b49cb8aa7c4e520126998": {
      "model_module": "@jupyter-widgets/controls",
      "model_module_version": "2.0.0",
      "model_name": "HTMLModel",
      "state": {
       "layout": "IPY_MODEL_4f2cba6c7af44aaebca53b4d8f78d534",
       "style": "IPY_MODEL_016346c3049540bda03ca500d803479e",
       "value": "tokenizer.model: 100%"
      }
     },
     "8147e69c3e6f43879567dc38cfdfdc8e": {
      "model_module": "@jupyter-widgets/controls",
      "model_module_version": "2.0.0",
      "model_name": "HBoxModel",
      "state": {
       "children": [
        "IPY_MODEL_6764de806973480cbe609a032c6fee79",
        "IPY_MODEL_2f1fdc3546a84c09aa35e9cdf62f093b",
        "IPY_MODEL_3463ff78c4f64185812d296977ea26a7"
       ],
       "layout": "IPY_MODEL_92bb70049d534d8e98c1e7776dd91d98"
      }
     },
     "8481dc96c1114e4682fbe1de54b705c3": {
      "model_module": "@jupyter-widgets/base",
      "model_module_version": "2.0.0",
      "model_name": "LayoutModel",
      "state": {}
     },
     "8911c4920d924832b47c70aefe2d59c6": {
      "model_module": "@jupyter-widgets/controls",
      "model_module_version": "2.0.0",
      "model_name": "FloatProgressModel",
      "state": {
       "bar_style": "success",
       "layout": "IPY_MODEL_b591d5f932eb461d8032cd303a5b619b",
       "max": 4982953200,
       "style": "IPY_MODEL_62b14f6dbc1a47d19b493fee96d3de2f",
       "value": 4982953200
      }
     },
     "90a1960d04484d6186c920e9f488843c": {
      "model_module": "@jupyter-widgets/base",
      "model_module_version": "2.0.0",
      "model_name": "LayoutModel",
      "state": {}
     },
     "9145315b34034ab992409815db6af6ef": {
      "model_module": "@jupyter-widgets/base",
      "model_module_version": "2.0.0",
      "model_name": "LayoutModel",
      "state": {}
     },
     "91b1e4eef2dc45289b924db8cb1f7c9b": {
      "model_module": "@jupyter-widgets/controls",
      "model_module_version": "2.0.0",
      "model_name": "HTMLStyleModel",
      "state": {
       "description_width": "",
       "font_size": null,
       "text_color": null
      }
     },
     "9205d6b488df4523a2141c2361e1657d": {
      "model_module": "@jupyter-widgets/base",
      "model_module_version": "2.0.0",
      "model_name": "LayoutModel",
      "state": {}
     },
     "920c7fb9181744d2bb11bc33358df05f": {
      "model_module": "@jupyter-widgets/controls",
      "model_module_version": "2.0.0",
      "model_name": "HTMLStyleModel",
      "state": {
       "description_width": "",
       "font_size": null,
       "text_color": null
      }
     },
     "925a9742d0b64aad9b13e38994c645c1": {
      "model_module": "@jupyter-widgets/base",
      "model_module_version": "2.0.0",
      "model_name": "LayoutModel",
      "state": {}
     },
     "92bb70049d534d8e98c1e7776dd91d98": {
      "model_module": "@jupyter-widgets/base",
      "model_module_version": "2.0.0",
      "model_name": "LayoutModel",
      "state": {}
     },
     "94d62aa6b5434c8a87a7376ad41c420d": {
      "model_module": "@jupyter-widgets/controls",
      "model_module_version": "2.0.0",
      "model_name": "HTMLStyleModel",
      "state": {
       "description_width": "",
       "font_size": null,
       "text_color": null
      }
     },
     "9aba327cc7094cbd89c01c3a1eddb537": {
      "model_module": "@jupyter-widgets/base",
      "model_module_version": "2.0.0",
      "model_name": "LayoutModel",
      "state": {}
     },
     "9ebc5407325c48ea9853d9e6a6cfcd6d": {
      "model_module": "@jupyter-widgets/controls",
      "model_module_version": "2.0.0",
      "model_name": "HBoxModel",
      "state": {
       "children": [
        "IPY_MODEL_76996e2b5c624ec183087012f2073ca0",
        "IPY_MODEL_3ccda54686fe4cdd84126be73726f163",
        "IPY_MODEL_632405d9d70b494da5f53b742047151a"
       ],
       "layout": "IPY_MODEL_9aba327cc7094cbd89c01c3a1eddb537"
      }
     },
     "9f0d7d8485624835bf687d90a92a4de8": {
      "model_module": "@jupyter-widgets/base",
      "model_module_version": "2.0.0",
      "model_name": "LayoutModel",
      "state": {}
     },
     "a13378ed60204c6492edf771c0916545": {
      "model_module": "@jupyter-widgets/controls",
      "model_module_version": "2.0.0",
      "model_name": "HTMLStyleModel",
      "state": {
       "description_width": "",
       "font_size": null,
       "text_color": null
      }
     },
     "a416ec34cc76495aa5c566a178505142": {
      "model_module": "@jupyter-widgets/base",
      "model_module_version": "2.0.0",
      "model_name": "LayoutModel",
      "state": {}
     },
     "a420c1e01168422095ad8fce4095bc59": {
      "model_module": "@jupyter-widgets/controls",
      "model_module_version": "2.0.0",
      "model_name": "HTMLModel",
      "state": {
       "layout": "IPY_MODEL_411c4c6335924e4fa7342a5b0d2daeee",
       "style": "IPY_MODEL_1d050db2963e44749eb7c740678741b3",
       "value": "model-00002-of-00004.safetensors: 100%"
      }
     },
     "a806e386569044b7a7e35f737d2094aa": {
      "model_module": "@jupyter-widgets/controls",
      "model_module_version": "2.0.0",
      "model_name": "HTMLModel",
      "state": {
       "layout": "IPY_MODEL_4e7fadec03124fa6b69214defe8d01f0",
       "style": "IPY_MODEL_f85be4137aa74cbea09a2c35ab3b1492",
       "value": "Downloading shards: 100%"
      }
     },
     "ab586a4c9b754952a2ec95692ea83ab2": {
      "model_module": "@jupyter-widgets/controls",
      "model_module_version": "2.0.0",
      "model_name": "HBoxModel",
      "state": {
       "children": [
        "IPY_MODEL_71592be166bb4dc4ae7e2a14ef9838f0",
        "IPY_MODEL_e05c91c4a0284f9994d23906282bfc43",
        "IPY_MODEL_d7e3de3c9b4c4bc0a811b35ad91af74e"
       ],
       "layout": "IPY_MODEL_445f644444be49e2807286fd98692b5c"
      }
     },
     "ac00fb37d0d0407aa37de07ebb56dc52": {
      "model_module": "@jupyter-widgets/controls",
      "model_module_version": "2.0.0",
      "model_name": "HTMLStyleModel",
      "state": {
       "description_width": "",
       "font_size": null,
       "text_color": null
      }
     },
     "ae1890a5cab947aab0a5eaf15f072d22": {
      "model_module": "@jupyter-widgets/controls",
      "model_module_version": "2.0.0",
      "model_name": "ProgressStyleModel",
      "state": {
       "description_width": ""
      }
     },
     "b114868ae84a41ae9fa39bfe74b24a68": {
      "model_module": "@jupyter-widgets/controls",
      "model_module_version": "2.0.0",
      "model_name": "HTMLModel",
      "state": {
       "layout": "IPY_MODEL_cf2d1db9178d4884a328e4cd86d87fcc",
       "style": "IPY_MODEL_1c0d04b52db7400285c9230a69481c88",
       "value": " 4.24M/4.24M [00:00&lt;00:00, 17.6MB/s]"
      }
     },
     "b3ade705bb774829974a5c90146c4589": {
      "model_module": "@jupyter-widgets/base",
      "model_module_version": "2.0.0",
      "model_name": "LayoutModel",
      "state": {}
     },
     "b43d7d585e1448b1ae0ac0ebe23c3af7": {
      "model_module": "@jupyter-widgets/controls",
      "model_module_version": "2.0.0",
      "model_name": "HTMLStyleModel",
      "state": {
       "description_width": "",
       "font_size": null,
       "text_color": null
      }
     },
     "b44ea41a2d5c4195a504e0f0bd63a17e": {
      "model_module": "@jupyter-widgets/controls",
      "model_module_version": "2.0.0",
      "model_name": "ProgressStyleModel",
      "state": {
       "description_width": ""
      }
     },
     "b591d5f932eb461d8032cd303a5b619b": {
      "model_module": "@jupyter-widgets/base",
      "model_module_version": "2.0.0",
      "model_name": "LayoutModel",
      "state": {}
     },
     "bab3a4a948e14441933aaba6bcda8e72": {
      "model_module": "@jupyter-widgets/controls",
      "model_module_version": "2.0.0",
      "model_name": "HBoxModel",
      "state": {
       "children": [
        "IPY_MODEL_a420c1e01168422095ad8fce4095bc59",
        "IPY_MODEL_d551a61d4edb469992b378677efbabd6",
        "IPY_MODEL_229839c868c24491974225369bd5b8fa"
       ],
       "layout": "IPY_MODEL_433cf78af4cb4315bfefc09429a10523"
      }
     },
     "bc3cf5b74d4247dcb9d6ffeb3470ab0b": {
      "model_module": "@jupyter-widgets/controls",
      "model_module_version": "2.0.0",
      "model_name": "FloatProgressModel",
      "state": {
       "bar_style": "success",
       "layout": "IPY_MODEL_24bdc76b063147c58d63dc893f278cb2",
       "max": 4995496656,
       "style": "IPY_MODEL_746dd4ef051949e394406d6187dcb80f",
       "value": 4995496656
      }
     },
     "bfb07552464c490f8a29d6a87a5e4fcf": {
      "model_module": "@jupyter-widgets/base",
      "model_module_version": "2.0.0",
      "model_name": "LayoutModel",
      "state": {}
     },
     "c5ff1287b2f84d83a13e7b29314e3347": {
      "model_module": "@jupyter-widgets/controls",
      "model_module_version": "2.0.0",
      "model_name": "HBoxModel",
      "state": {
       "children": [
        "IPY_MODEL_fa2d9fbb76c2411999eafa0eea778f65",
        "IPY_MODEL_39679ffbd1d743b595733c4448632672",
        "IPY_MODEL_301b3f41ce56408d842d3c3e722a9127"
       ],
       "layout": "IPY_MODEL_1b6537cac89b4d51884a69f8fe254856"
      }
     },
     "c9ecc530fc4e4a439853180fc42efe77": {
      "model_module": "@jupyter-widgets/base",
      "model_module_version": "2.0.0",
      "model_name": "LayoutModel",
      "state": {}
     },
     "ca2c30f96bce4b4aa45a776ba27ddc10": {
      "model_module": "@jupyter-widgets/controls",
      "model_module_version": "2.0.0",
      "model_name": "HTMLStyleModel",
      "state": {
       "description_width": "",
       "font_size": null,
       "text_color": null
      }
     },
     "cb3769cf861d46aaa7cd2a768ebd0716": {
      "model_module": "@jupyter-widgets/base",
      "model_module_version": "2.0.0",
      "model_name": "LayoutModel",
      "state": {}
     },
     "cf2d1db9178d4884a328e4cd86d87fcc": {
      "model_module": "@jupyter-widgets/base",
      "model_module_version": "2.0.0",
      "model_name": "LayoutModel",
      "state": {}
     },
     "cfade8392a9c414f914beafc0532cb11": {
      "model_module": "@jupyter-widgets/controls",
      "model_module_version": "2.0.0",
      "model_name": "FloatProgressModel",
      "state": {
       "bar_style": "success",
       "layout": "IPY_MODEL_6ec8998be4914ac8af7ebdb4f3dc70c5",
       "max": 4,
       "style": "IPY_MODEL_17b06c3f17d44e5791c6f60f45389f60",
       "value": 4
      }
     },
     "d0c1549be354419abaf68cb52e741667": {
      "model_module": "@jupyter-widgets/base",
      "model_module_version": "2.0.0",
      "model_name": "LayoutModel",
      "state": {}
     },
     "d30ef46ebdf845a9ab731af99e1d3362": {
      "model_module": "@jupyter-widgets/controls",
      "model_module_version": "2.0.0",
      "model_name": "ProgressStyleModel",
      "state": {
       "description_width": ""
      }
     },
     "d3515b200601486695396685b653e883": {
      "model_module": "@jupyter-widgets/base",
      "model_module_version": "2.0.0",
      "model_name": "LayoutModel",
      "state": {}
     },
     "d551a61d4edb469992b378677efbabd6": {
      "model_module": "@jupyter-widgets/controls",
      "model_module_version": "2.0.0",
      "model_name": "FloatProgressModel",
      "state": {
       "bar_style": "success",
       "layout": "IPY_MODEL_c9ecc530fc4e4a439853180fc42efe77",
       "max": 4982953168,
       "style": "IPY_MODEL_78fc05516a1b434d9a42648493a00f00",
       "value": 4982953168
      }
     },
     "d7e3de3c9b4c4bc0a811b35ad91af74e": {
      "model_module": "@jupyter-widgets/controls",
      "model_module_version": "2.0.0",
      "model_name": "HTMLModel",
      "state": {
       "layout": "IPY_MODEL_4f7027cd1e774d73bf30f435e61760f9",
       "style": "IPY_MODEL_6d1aad89842c47388510b8d2df7a13b7",
       "value": " 2.11G/2.11G [00:07&lt;00:00, 354MB/s]"
      }
     },
     "da8e2f92bbb746f48b7d9a0d3d0fd0d4": {
      "model_module": "@jupyter-widgets/controls",
      "model_module_version": "2.0.0",
      "model_name": "HTMLStyleModel",
      "state": {
       "description_width": "",
       "font_size": null,
       "text_color": null
      }
     },
     "dcd06366f6e449a2b7c16191b3b65e5a": {
      "model_module": "@jupyter-widgets/controls",
      "model_module_version": "2.0.0",
      "model_name": "HTMLModel",
      "state": {
       "layout": "IPY_MODEL_b3ade705bb774829974a5c90146c4589",
       "style": "IPY_MODEL_4eaa50a1bf7c422898e6fc0995e9b703",
       "value": " 2.16k/2.16k [00:00&lt;00:00, 195kB/s]"
      }
     },
     "ddc1203832e443c3b96d2065354ba602": {
      "model_module": "@jupyter-widgets/controls",
      "model_module_version": "2.0.0",
      "model_name": "HBoxModel",
      "state": {
       "children": [
        "IPY_MODEL_79d1e5c4a3c043c1b438ffd098cb34b1",
        "IPY_MODEL_3db41cc6454b4553aa3d970b467a98d8",
        "IPY_MODEL_dcd06366f6e449a2b7c16191b3b65e5a"
       ],
       "layout": "IPY_MODEL_de1a015a99bb41e0ace7c105757569e9"
      }
     },
     "de1a015a99bb41e0ace7c105757569e9": {
      "model_module": "@jupyter-widgets/base",
      "model_module_version": "2.0.0",
      "model_name": "LayoutModel",
      "state": {}
     },
     "e05c91c4a0284f9994d23906282bfc43": {
      "model_module": "@jupyter-widgets/controls",
      "model_module_version": "2.0.0",
      "model_name": "FloatProgressModel",
      "state": {
       "bar_style": "success",
       "layout": "IPY_MODEL_925a9742d0b64aad9b13e38994c645c1",
       "max": 2113988336,
       "style": "IPY_MODEL_b44ea41a2d5c4195a504e0f0bd63a17e",
       "value": 2113988336
      }
     },
     "e07047469d2f49d7abd0d6414ff4ec5e": {
      "model_module": "@jupyter-widgets/controls",
      "model_module_version": "2.0.0",
      "model_name": "HBoxModel",
      "state": {
       "children": [
        "IPY_MODEL_7e13db77b94b49cb8aa7c4e520126998",
        "IPY_MODEL_43bd9f278b1c4fffb2bc2a22db18b39d",
        "IPY_MODEL_b114868ae84a41ae9fa39bfe74b24a68"
       ],
       "layout": "IPY_MODEL_33a268dbc9d5433aa040938750517e84"
      }
     },
     "e6a4c63f4c3543158ef0ac5f25898a9a": {
      "model_module": "@jupyter-widgets/controls",
      "model_module_version": "2.0.0",
      "model_name": "HTMLModel",
      "state": {
       "layout": "IPY_MODEL_f3d03b099cf5469a81771d55beee4d82",
       "style": "IPY_MODEL_91b1e4eef2dc45289b924db8cb1f7c9b",
       "value": "Loading checkpoint shards: 100%"
      }
     },
     "ecdfd817c99440269a539343b0b8185e": {
      "model_module": "@jupyter-widgets/controls",
      "model_module_version": "2.0.0",
      "model_name": "ProgressStyleModel",
      "state": {
       "description_width": ""
      }
     },
     "ed778a45c9de49978764c67c8a2da8d4": {
      "model_module": "@jupyter-widgets/controls",
      "model_module_version": "2.0.0",
      "model_name": "HTMLModel",
      "state": {
       "layout": "IPY_MODEL_8481dc96c1114e4682fbe1de54b705c3",
       "style": "IPY_MODEL_7d37257f3a98453a9ac0aa105e713b45",
       "value": "tokenizer.json: 100%"
      }
     },
     "f2aad588df5d43ce957f9832b0f0fbee": {
      "model_module": "@jupyter-widgets/base",
      "model_module_version": "2.0.0",
      "model_name": "LayoutModel",
      "state": {}
     },
     "f3d03b099cf5469a81771d55beee4d82": {
      "model_module": "@jupyter-widgets/base",
      "model_module_version": "2.0.0",
      "model_name": "LayoutModel",
      "state": {}
     },
     "f85be4137aa74cbea09a2c35ab3b1492": {
      "model_module": "@jupyter-widgets/controls",
      "model_module_version": "2.0.0",
      "model_name": "HTMLStyleModel",
      "state": {
       "description_width": "",
       "font_size": null,
       "text_color": null
      }
     },
     "fa2d9fbb76c2411999eafa0eea778f65": {
      "model_module": "@jupyter-widgets/controls",
      "model_module_version": "2.0.0",
      "model_name": "HTMLModel",
      "state": {
       "layout": "IPY_MODEL_4699f4d86bb34d2e99aa2abbf9f55a2e",
       "style": "IPY_MODEL_ac00fb37d0d0407aa37de07ebb56dc52",
       "value": "generation_config.json: 100%"
      }
     },
     "fda5d033bf1741168611962f746cf918": {
      "model_module": "@jupyter-widgets/controls",
      "model_module_version": "2.0.0",
      "model_name": "HTMLStyleModel",
      "state": {
       "description_width": "",
       "font_size": null,
       "text_color": null
      }
     },
     "ff095266d9e544b0af9dd14babe6218e": {
      "model_module": "@jupyter-widgets/base",
      "model_module_version": "2.0.0",
      "model_name": "LayoutModel",
      "state": {}
     }
    },
    "version_major": 2,
    "version_minor": 0
   }
  }
 },
 "nbformat": 4,
 "nbformat_minor": 5
}
